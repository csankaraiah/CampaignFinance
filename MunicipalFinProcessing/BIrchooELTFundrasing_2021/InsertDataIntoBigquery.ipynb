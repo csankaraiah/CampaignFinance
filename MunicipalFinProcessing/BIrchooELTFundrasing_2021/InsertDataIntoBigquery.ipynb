{
 "cells": [
  {
   "cell_type": "markdown",
   "metadata": {},
   "source": [
    "# Test out Code to insert data into bigquery table"
   ]
  },
  {
   "cell_type": "code",
   "execution_count": 1,
   "metadata": {},
   "outputs": [],
   "source": [
    "import google.datalab.bigquery as bq\n",
    "import pandas\n"
   ]
  },
  {
   "cell_type": "code",
   "execution_count": 2,
   "metadata": {},
   "outputs": [],
   "source": [
    "# Create a sample dataframe\n",
    "dataframe = pandas.DataFrame([\n",
    "    {'FormattedPhoneNumber': '(651) 203-0401', 'Latitute': 44.96252399999999, 'ContributorName': 'Minnesota State Council of Unite He', 'Name': 'SEIU Minnesota State Council', 'Website': 'http://seiumn.org/', 'FormattedFullAddress': '2233 University Ave W # 422, St Paul, MN 55114, USA', 'Longitude': -93.19194429999999},\n",
    "  {'FormattedPhoneNumber': '(651) 203-0401', 'Latitute': 44.96252399999999, 'ContributorName': 'Minnesota State Council of Unite He2', 'Name': 'SEIU Minnesota State Council', 'Website': 'http://seiumn.org/', 'FormattedFullAddress': '2233 University Ave W # 422, St Paul, MN 55114, USA', 'Longitude': -93.19194429999999}\n",
    "])"
   ]
  },
  {
   "cell_type": "code",
   "execution_count": 3,
   "metadata": {},
   "outputs": [],
   "source": [
    "# Construct a BigQuery client object.\n",
    "datasetname = 'Munidata' \n",
    "tablename = 'testDatalabTable' "
   ]
  },
  {
   "cell_type": "code",
   "execution_count": 15,
   "metadata": {},
   "outputs": [
    {
     "name": "stdout",
     "output_type": "stream",
     "text": [
      "BigQuery Schema - Fields:\n",
      "[{u'name': 'ContributorName',\n",
      "  u'type': u'STRING'},\n",
      " {u'name': 'FormattedFullAddress',\n",
      "  u'type': u'STRING'},\n",
      " {u'name': 'FormattedPhoneNumber',\n",
      "  u'type': u'STRING'},\n",
      " {u'name': 'Latitute',\n",
      "  u'type': u'FLOAT'},\n",
      " {u'name': 'Longitude',\n",
      "  u'type': u'FLOAT'},\n",
      " {u'name': 'Name',\n",
      "  u'type': u'STRING'},\n",
      " {u'name': 'Website',\n",
      "  u'type': u'STRING'}]\n",
      "<class 'google.datalab.bigquery._table.Table'>\n"
     ]
    }
   ],
   "source": [
    "# Construct a BigQuery client object.\n",
    "tableschema = bq.Schema.from_data(dataframe)\n",
    "print(tableschema)\n",
    "table = bq.Table('{}.testDatalabTable'.format(datasetname))\n",
    "print(type(table))"
   ]
  },
  {
   "cell_type": "code",
   "execution_count": null,
   "metadata": {},
   "outputs": [],
   "source": [
    "table1 = bq.Table('{}.testDatalabTable'.format(datasetname)).create(schema=tableschema))"
   ]
  },
  {
   "cell_type": "code",
   "execution_count": 13,
   "metadata": {},
   "outputs": [
    {
     "data": {
      "text/html": [
       "\n",
       "    <div class=\"bqtv\" id=\"2_160782731782\"><table><tr><th>ContributorName</th><th>Name</th><th>Website</th><th>FormattedFullAddress</th><th>FormattedPhoneNumber</th><th>Latitute</th><th>Longitude</th></tr><tr><td>Minnesota State Council of Unite He</td><td>SEIU Minnesota State Council</td><td>http://seiumn.org/</td><td>2233 University Ave W # 422, St Paul, MN 55114, USA</td><td>(651) 203-0401</td><td>44.962524</td><td>-93.1919443</td></tr><tr><td>Minnesota State Council of Unite He2</td><td>SEIU Minnesota State Council</td><td>http://seiumn.org/</td><td>2233 University Ave W # 422, St Paul, MN 55114, USA</td><td>(651) 203-0401</td><td>44.962524</td><td>-93.1919443</td></tr></table></div>\n",
       "    <br />(rows: 0, campaignanalytics-182101.Munidata.MuniHenContriEntityDtl)<br />\n",
       "    <script src=\"/static/components/requirejs/require.js\"></script>\n",
       "    <script>\n",
       "      require.config({\n",
       "        paths: {\n",
       "          base: '/static/base',\n",
       "          d3: '//cdnjs.cloudflare.com/ajax/libs/d3/3.4.13/d3',\n",
       "          plotly: 'https://cdn.plot.ly/plotly-1.5.1.min.js?noext',\n",
       "          jquery: '//ajax.googleapis.com/ajax/libs/jquery/2.0.0/jquery.min'\n",
       "        },\n",
       "        map: {\n",
       "          '*': {\n",
       "            datalab: 'nbextensions/gcpdatalab'\n",
       "          }\n",
       "        },\n",
       "        shim: {\n",
       "          plotly: {\n",
       "            deps: ['d3', 'jquery'],\n",
       "            exports: 'plotly'\n",
       "          }\n",
       "        }\n",
       "      });\n",
       "\n",
       "      require(['datalab/charting', 'datalab/element!2_160782731782', 'base/js/events',\n",
       "          'datalab/style!/nbextensions/gcpdatalab/charting.css'],\n",
       "        function(charts, dom, events) {\n",
       "          charts.render('gcharts', dom, events, 'table', [], {\"rows\": [{\"c\": [{\"v\": \"Minnesota State Council of Unite He\"}, {\"v\": \"SEIU Minnesota State Council\"}, {\"v\": \"http://seiumn.org/\"}, {\"v\": \"2233 University Ave W # 422, St Paul, MN 55114, USA\"}, {\"v\": \"(651) 203-0401\"}, {\"v\": 44.96252399999999}, {\"v\": -93.19194429999999}]}, {\"c\": [{\"v\": \"Minnesota State Council of Unite He2\"}, {\"v\": \"SEIU Minnesota State Council\"}, {\"v\": \"http://seiumn.org/\"}, {\"v\": \"2233 University Ave W # 422, St Paul, MN 55114, USA\"}, {\"v\": \"(651) 203-0401\"}, {\"v\": 44.96252399999999}, {\"v\": -93.19194429999999}]}], \"cols\": [{\"type\": \"string\", \"id\": \"ContributorName\", \"label\": \"ContributorName\"}, {\"type\": \"string\", \"id\": \"Name\", \"label\": \"Name\"}, {\"type\": \"string\", \"id\": \"Website\", \"label\": \"Website\"}, {\"type\": \"string\", \"id\": \"FormattedFullAddress\", \"label\": \"FormattedFullAddress\"}, {\"type\": \"string\", \"id\": \"FormattedPhoneNumber\", \"label\": \"FormattedPhoneNumber\"}, {\"type\": \"number\", \"id\": \"Latitute\", \"label\": \"Latitute\"}, {\"type\": \"number\", \"id\": \"Longitude\", \"label\": \"Longitude\"}]},\n",
       "            {\n",
       "              pageSize: 25,\n",
       "              cssClassNames:  {\n",
       "                tableRow: 'gchart-table-row',\n",
       "                headerRow: 'gchart-table-headerrow',\n",
       "                oddTableRow: 'gchart-table-oddrow',\n",
       "                selectedTableRow: 'gchart-table-selectedrow',\n",
       "                hoverTableRow: 'gchart-table-hoverrow',\n",
       "                tableCell: 'gchart-table-cell',\n",
       "                headerCell: 'gchart-table-headercell',\n",
       "                rowNumberCell: 'gchart-table-rownumcell'\n",
       "              }\n",
       "            },\n",
       "            {source_index: 1, fields: 'ContributorName,Name,Website,FormattedFullAddress,FormattedPhoneNumber,Latitute,Longitude'},\n",
       "            0,\n",
       "            0);\n",
       "        }\n",
       "      );\n",
       "    </script>\n",
       "  "
      ],
      "text/plain": [
       "BigQuery Table - name: campaignanalytics-182101.Munidata.MuniHenContriEntityDtl"
      ]
     },
     "execution_count": 13,
     "metadata": {},
     "output_type": "execute_result"
    }
   ],
   "source": [
    "# Construct a BigQuery client object.\n",
    "tableschema = bq.Schema.from_data(dataframe)\n",
    "\n",
    "#print(type(tableschema))\n",
    "#print(tableschema)\n",
    "\n",
    "#table = bq.Table(tablename.format(datasetname).create(schema=tableschema))\n",
    "table = bq.Table(\n",
    "    '{}.MuniHenContriEntityDtl'.format(datasetname))\n",
    "table.insert(dataframe)"
   ]
  },
  {
   "cell_type": "code",
   "execution_count": null,
   "metadata": {},
   "outputs": [],
   "source": []
  },
  {
   "cell_type": "code",
   "execution_count": 15,
   "metadata": {},
   "outputs": [
    {
     "data": {
      "text/plain": [
       "list"
      ]
     },
     "execution_count": 15,
     "metadata": {},
     "output_type": "execute_result"
    }
   ],
   "source": [
    "variable = [\n",
    "    {'FormattedPhoneNumber': '(651) 203-0401', 'Latitute': 44.96252399999999, 'ContributorName': 'Minnesota State Council of Unite He', 'Name': 'SEIU Minnesota State Council', 'Website': 'http://seiumn.org/', 'FormattedFullAddress': '2233 University Ave W # 422, St Paul, MN 55114, USA', 'Longitude': -93.19194429999999},\n",
    "  {'FormattedPhoneNumber': '(651) 203-0401', 'Latitute': 44.96252399999999, 'ContributorName': 'Minnesota State Council of Unite He2', 'Name': 'SEIU Minnesota State Council', 'Website': 'http://seiumn.org/', 'FormattedFullAddress': '2233 University Ave W # 422, St Paul, MN 55114, USA', 'Longitude': -93.19194429999999}\n",
    "]\n",
    "\n",
    "type(variable)"
   ]
  },
  {
   "cell_type": "code",
   "execution_count": null,
   "metadata": {},
   "outputs": [],
   "source": []
  }
 ],
 "metadata": {
  "kernelspec": {
   "display_name": "Python (Local)",
   "language": "python",
   "name": "local-base"
  },
  "language_info": {
   "codemirror_mode": {
    "name": "ipython",
    "version": 3
   },
   "file_extension": ".py",
   "mimetype": "text/x-python",
   "name": "python",
   "nbconvert_exporter": "python",
   "pygments_lexer": "ipython3",
   "version": "3.7.12"
  }
 },
 "nbformat": 4,
 "nbformat_minor": 4
}
